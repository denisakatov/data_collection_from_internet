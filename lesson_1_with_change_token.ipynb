{
 "cells": [
  {
   "cell_type": "markdown",
   "metadata": {},
   "source": [
    "1. Посмотреть документацию к API GitHub, разобраться как вывести список репозиториев для конкретного пользователя, сохранить JSON-вывод в файле *.json.\n"
   ]
  },
  {
   "cell_type": "code",
   "execution_count": 2,
   "metadata": {},
   "outputs": [],
   "source": [
    "import requests\n",
    "from pprint import pprint\n",
    "import json"
   ]
  },
  {
   "cell_type": "code",
   "execution_count": 3,
   "metadata": {},
   "outputs": [
    {
     "name": "stdout",
     "output_type": "stream",
     "text": [
      "['data_collection_from_internet']\n",
      "['data_collection_from_internet', 'library_pythons']\n",
      "['data_collection_from_internet', 'library_pythons', 'math']\n",
      "['data_collection_from_internet', 'library_pythons', 'math', 'mysql']\n",
      "['data_collection_from_internet', 'library_pythons', 'math', 'mysql', 'new']\n"
     ]
    }
   ],
   "source": [
    "main_link_1 = \"https://api.github.com/users/denisakatov/repos\"\n",
    "\n",
    "response = requests.get(main_link_1)\n",
    "if response.ok:\n",
    "    data = json.loads(response.text)\n",
    "    repositories = []\n",
    "    for i in data:\n",
    "        repositories.append(i.get('name'))# Добавляем название репозиториев в список\n",
    "        print(repositories)\n",
    "with open('response.json', 'w', encoding='utf-8') as file:\n",
    "    json.dump(repositories, file, indent=2, ensure_ascii=False)"
   ]
  },
  {
   "cell_type": "markdown",
   "metadata": {},
   "source": [
    "2. Изучить список открытых API. Найти среди них любое, требующее авторизацию (любого типа). Выполнить запросы к нему, пройдя авторизацию. Ответ сервера записать в файл."
   ]
  },
  {
   "cell_type": "code",
   "execution_count": 80,
   "metadata": {},
   "outputs": [
    {
     "name": "stdout",
     "output_type": "stream",
     "text": [
      "<class 'list'>\n",
      "[{'can_access_closed': True,\n",
      "  'first_name': 'Denis',\n",
      "  'id': 2553495,\n",
      "  'is_closed': False,\n",
      "  'last_name': 'Akatov'}]\n",
      "Имя: Denis\n",
      "Фамилия: Akatov\n"
     ]
    }
   ],
   "source": [
    "main_link = 'https://api.vk.com/method/users.get?' # Неменяемая часть ссылки\n",
    "user_id = 'id2553495'# Логин\n",
    "token = 'ваыправыфаропавыувапрорпавыуквапропавы' #Токен (изменен)\n",
    "version = 5.103\n",
    "headers = {'User-Agent':'Mozilla/5.0 (Windows NT 10.0; Win64; x64) AppleWebKit/537.36 (KHTML, like Gecko) Chrome/80.0.3987.149 Safari/537.36'}\n",
    "params = {\n",
    "    'user_ids':user_id,\n",
    "    'access_token': token,\n",
    "    'v':version\n",
    "}\n",
    "response = requests.get(main_link,headers=headers,params=params)\n",
    "if response.ok:\n",
    "    data = json.loads(response.text)\n",
    "    sp = data[\"response\"]\n",
    "    print(type(sp)) # Данные выводятся списком. Используем цикл, чтобы вывести элементы\n",
    "    pprint(sp)\n",
    "for i in sp:\n",
    "    name_surname = \"Имя: {}\\nФамилия: {}\".format(i['first_name'], i['last_name']) #Запишем фамилию и имя в переменную.\n",
    "print(name_surname)\n",
    "with open('response.txt', 'w', encoding='utf-8') as file:\n",
    "    file.write(name_surname) #Запишем данные переменной в файл."
   ]
  }
 ],
 "metadata": {
  "kernelspec": {
   "display_name": "Python 3",
   "language": "python",
   "name": "python3"
  },
  "language_info": {
   "codemirror_mode": {
    "name": "ipython",
    "version": 3
   },
   "file_extension": ".py",
   "mimetype": "text/x-python",
   "name": "python",
   "nbconvert_exporter": "python",
   "pygments_lexer": "ipython3",
   "version": "3.7.3"
  }
 },
 "nbformat": 4,
 "nbformat_minor": 2
}
